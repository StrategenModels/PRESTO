{
 "cells": [
  {
   "cell_type": "code",
   "execution_count": 29,
   "id": "270089af-4dcc-446b-af47-ac4c89c45950",
   "metadata": {},
   "outputs": [
    {
     "name": "stdin",
     "output_type": "stream",
     "text": [
      "Enter FIPS code for region of interest 08005\n"
     ]
    },
    {
     "name": "stdout",
     "output_type": "stream",
     "text": [
      "Reformatted data saved to 'reformatted_api_data.csv'.\n"
     ]
    }
   ],
   "source": [
    "import requests\n",
    "import json\n",
    "import pandas as pd\n",
    "\n",
    "# Define the API URL and parameters\n",
    "api_url = \"https://presto.lbl.gov/api/v1/model\"\n",
    "api_key = \"4cc450bc-be38-4af1-9761-3e69a2263800\"\n",
    "fips = input(\"Enter FIPS code for region of interest\")\n",
    "\n",
    "# Define headers and data for the request\n",
    "headers = {\n",
    "    \"accept\": \"application/json\",\n",
    "    \"Content-Type\": \"application/json\",\n",
    "}\n",
    "\n",
    "data = {\n",
    "    \"key\": api_key,\n",
    "    \"fips\": fips,\n",
    "}\n",
    "\n",
    "# Make the POST request\n",
    "response = requests.post(api_url, headers=headers, data=json.dumps(data))\n",
    "\n",
    "# Check if the request was successful (status code 200)\n",
    "if response.status_code == 200:\n",
    "    response_json = response.json()\n",
    "\n",
    "    # Create a Pandas DataFrame from the response data\n",
    "    df = pd.DataFrame(response_json[\"results\"])\n",
    "\n",
    "    # Expand the nested lists into separate DataFrames and concatenate them\n",
    "    df_weeks = pd.DataFrame(df[\"weeks\"].tolist(), columns=[f\"week_{i}\" for i in range(df[\"weeks\"].apply(len).max())])\n",
    "    df_days = pd.DataFrame(df[\"daysOfMonth\"].tolist(), columns=[f\"day_{i}\" for i in range(df[\"daysOfMonth\"].apply(len).max())])\n",
    "    df_hours = pd.DataFrame(df[\"hoursOfDay\"].tolist(), columns=[f\"hour_{i}\" for i in range(df[\"hoursOfDay\"].apply(len).max())])\n",
    "    df_durations = pd.DataFrame(df[\"durations\"].tolist(), columns=[f\"duration_{i}\" for i in range(df[\"durations\"].apply(len).max())])\n",
    "    df_months = pd.DataFrame(df[\"months\"].tolist(), columns=[f\"month_{i}\" for i in range(df[\"months\"].apply(len).max())])\n",
    "\n",
    "    # Concatenate the separate DataFrames\n",
    "    df = pd.concat([df, df_weeks, df_days, df_hours, df_durations, df_months], axis=1)\n",
    "\n",
    "    # Drop the original columns with nested lists\n",
    "    df = df.drop([\"weeks\", \"daysOfMonth\", \"hoursOfDay\", \"durations\", \"months\"], axis=1)\n",
    "\n",
    "    # Save the reformatted DataFrame to a CSV file\n",
    "    df.to_csv(\"reformatted_api_data.csv\", index=False)\n",
    "\n",
    "    print(\"Reformatted data saved to 'reformatted_api_data.csv'.\")\n",
    "else:\n",
    "    print(\"Failed to make the API request. Status code:\", response.status_code)\n"
   ]
  }
 ],
 "metadata": {
  "kernelspec": {
   "display_name": "Python 3 (ipykernel)",
   "language": "python",
   "name": "python3"
  },
  "language_info": {
   "codemirror_mode": {
    "name": "ipython",
    "version": 3
   },
   "file_extension": ".py",
   "mimetype": "text/x-python",
   "name": "python",
   "nbconvert_exporter": "python",
   "pygments_lexer": "ipython3",
   "version": "3.9.13"
  }
 },
 "nbformat": 4,
 "nbformat_minor": 5
}
